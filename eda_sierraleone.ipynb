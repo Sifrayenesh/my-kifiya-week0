{
 "cells": [
  {
   "cell_type": "markdown",
   "id": "e55d1cdd",
   "metadata": {},
   "source": [
    "Importing necessary libraries for EDA"
   ]
  },
  {
   "cell_type": "code",
   "execution_count": 56,
   "id": "0f1023c9",
   "metadata": {},
   "outputs": [],
   "source": [
    "import pandas as pd\n",
    "import numpy as np\n",
    "import matplotlib.pyplot as plt\n",
    "import seaborn as sns\n",
    "from scipy import stats\n",
    "import missingno as msno\n",
    " \n",
    "from sklearn.impute import KNNImputer\n",
    "from sklearn.preprocessing import StandardScaler, LabelEncoder "
   ]
  },
  {
   "cell_type": "markdown",
   "id": "23df547e",
   "metadata": {},
   "source": [
    "Business understanding"
   ]
  },
  {
   "cell_type": "markdown",
   "id": "8d7e0473",
   "metadata": {},
   "source": [
    "MoonLight Energy Solutions aims to develop a strategic approach to significantly enhance its operational efficiency and sustainability through targeted solar investments. As an Analytics Engineer at MoonLight Energy Solutions, the task is to perform a quick analysis of an environmental measurement provided by the engineering team and translate the observation as a strategy report. the analysis should focus on identifying key trends and learn valuable insights that will support your data-driven case - the recommendation based on the statistical analysis and EDA.  In particular, the analysis and recommendation must present a strategy focusing on identifying high-potential regions for solar installation that align with the company's long-term sustainability goals. the report should provide an insight to help realize the overarching objectives of MoonLight Energy Solutions."
   ]
  },
  {
   "cell_type": "markdown",
   "id": "98b787e6",
   "metadata": {},
   "source": [
    "Dataset Overview\n"
   ]
  },
  {
   "cell_type": "markdown",
   "id": "4c25cd79",
   "metadata": {},
   "source": [
    "datasets  sources.\n",
    "    -data source from: https://energydata.info/dataset/?q=Solar+Radiation+Measurement&vocab_regions=AFR\n",
    "    -data structure and variable descriptions.\n",
    "     Each row in the data contains the values for solar radiation, air temperature, relative humidity, barometric pressure, precipitation, wind speed, and wind direction, cleaned and soiled radiance sensor (soiling measurement) and cleaning events."
   ]
  },
  {
   "cell_type": "markdown",
   "id": "739f6f3f",
   "metadata": {},
   "source": [
    "Describe data structure\n"
   ]
  },
  {
   "cell_type": "code",
   "execution_count": 57,
   "id": "c0b2d3c9",
   "metadata": {},
   "outputs": [
    {
     "name": "stdout",
     "output_type": "stream",
     "text": [
      "Dataset loaded successfully. Shape: (525600, 19)\n"
     ]
    }
   ],
   "source": [
    "data = 'C:/Users/sifra/Downloads/data/data/sierraleone_bumbuna.csv'  \n",
    "try:\n",
    "    # Load the CSV file\n",
    "    df = pd.read_csv(data)\n",
    "    print(\"Dataset loaded successfully. Shape:\", df.shape)\n",
    "except FileNotFoundError:\n",
    "    print(f\"Error: The file {data} was not found. Please provide the correct file path.\")\n",
    "    exit()\n",
    "except Exception as e:\n",
    "    print(f\"Error loading CSV file: {e}\")\n",
    "    exit()"
   ]
  },
  {
   "cell_type": "code",
   "execution_count": 58,
   "id": "6d339726",
   "metadata": {},
   "outputs": [
    {
     "name": "stdout",
     "output_type": "stream",
     "text": [
      "Data Shape: (525600, 19)\n"
     ]
    }
   ],
   "source": [
    "print(\"Data Shape:\", df.shape)"
   ]
  },
  {
   "cell_type": "code",
   "execution_count": 59,
   "id": "3697e85e",
   "metadata": {},
   "outputs": [
    {
     "name": "stdout",
     "output_type": "stream",
     "text": [
      "First 10 rows of the dataset:\n",
      "         Timestamp  GHI  DNI  DHI  ModA  ModB  Tamb    RH   WS  WSgust  \\\n",
      "0  10/30/2021 0:01 -0.7 -0.1 -0.8   0.0   0.0  21.9  99.1  0.0     0.0   \n",
      "1  10/30/2021 0:02 -0.7 -0.1 -0.8   0.0   0.0  21.9  99.2  0.0     0.0   \n",
      "2  10/30/2021 0:03 -0.7 -0.1 -0.8   0.0   0.0  21.9  99.2  0.0     0.0   \n",
      "3  10/30/2021 0:04 -0.7  0.0 -0.8   0.0   0.0  21.9  99.3  0.0     0.0   \n",
      "4  10/30/2021 0:05 -0.7 -0.1 -0.8   0.0   0.0  21.9  99.3  0.0     0.0   \n",
      "\n",
      "   WSstdev   WD  WDstdev    BP  Cleaning  Precipitation  TModA  TModB  \\\n",
      "0      0.0  0.0      0.0  1002         0            0.0   22.3   22.6   \n",
      "1      0.0  0.0      0.0  1002         0            0.0   22.3   22.6   \n",
      "2      0.0  0.0      0.0  1002         0            0.0   22.3   22.6   \n",
      "3      0.0  0.0      0.0  1002         0            0.1   22.3   22.6   \n",
      "4      0.0  0.0      0.0  1002         0            0.0   22.3   22.6   \n",
      "\n",
      "   Comments  \n",
      "0       NaN  \n",
      "1       NaN  \n",
      "2       NaN  \n",
      "3       NaN  \n",
      "4       NaN  \n"
     ]
    }
   ],
   "source": [
    "print(\"First 10 rows of the dataset:\")\n",
    "print(df.head())"
   ]
  },
  {
   "cell_type": "code",
   "execution_count": 60,
   "id": "e2b73a16",
   "metadata": {},
   "outputs": [
    {
     "name": "stdout",
     "output_type": "stream",
     "text": [
      "Last 5 rows of the dataset:\n",
      "               Timestamp  GHI  DNI  DHI  ModA  ModB  Tamb     RH   WS  WSgust  \\\n",
      "525595  10/29/2022 23:56 -1.6 -0.1 -2.9   0.0   0.0  24.0  100.0  0.0     0.0   \n",
      "525596  10/29/2022 23:57 -1.7 -0.1 -3.0   0.0   0.0  24.0  100.0  0.0     0.0   \n",
      "525597  10/29/2022 23:58 -1.7 -0.1 -3.1   0.0   0.0  24.0  100.0  0.0     0.0   \n",
      "525598  10/29/2022 23:59 -1.7 -0.2 -3.3   0.0   0.0  23.9  100.0  0.0     0.0   \n",
      "525599   10/30/2022 0:00 -1.7 -0.1 -3.4   0.0   0.0  23.9  100.0  0.0     0.0   \n",
      "\n",
      "        WSstdev   WD  WDstdev    BP  Cleaning  Precipitation  TModA  TModB  \\\n",
      "525595      0.0  0.0      0.0   999         0            0.0   24.2   24.5   \n",
      "525596      0.0  0.0      0.0   999         0            0.0   24.2   24.5   \n",
      "525597      0.0  0.0      0.0  1000         0            0.0   24.1   24.4   \n",
      "525598      0.0  0.0      0.0  1000         0            0.0   24.1   24.4   \n",
      "525599      0.0  0.0      0.0  1000         0            0.0   24.1   24.4   \n",
      "\n",
      "        Comments  \n",
      "525595       NaN  \n",
      "525596       NaN  \n",
      "525597       NaN  \n",
      "525598       NaN  \n",
      "525599       NaN  \n"
     ]
    }
   ],
   "source": [
    "print(\"Last 5 rows of the dataset:\")\n",
    "print(df.tail())"
   ]
  },
  {
   "cell_type": "code",
   "execution_count": 61,
   "id": "88394ec2",
   "metadata": {},
   "outputs": [
    {
     "name": "stdout",
     "output_type": "stream",
     "text": [
      "\n",
      "Data Informtion:\n",
      "<class 'pandas.core.frame.DataFrame'>\n",
      "RangeIndex: 525600 entries, 0 to 525599\n",
      "Data columns (total 19 columns):\n",
      " #   Column         Non-Null Count   Dtype  \n",
      "---  ------         --------------   -----  \n",
      " 0   Timestamp      525600 non-null  object \n",
      " 1   GHI            525600 non-null  float64\n",
      " 2   DNI            525600 non-null  float64\n",
      " 3   DHI            525600 non-null  float64\n",
      " 4   ModA           525600 non-null  float64\n",
      " 5   ModB           525600 non-null  float64\n",
      " 6   Tamb           525600 non-null  float64\n",
      " 7   RH             525600 non-null  float64\n",
      " 8   WS             525600 non-null  float64\n",
      " 9   WSgust         525600 non-null  float64\n",
      " 10  WSstdev        525600 non-null  float64\n",
      " 11  WD             525600 non-null  float64\n",
      " 12  WDstdev        525600 non-null  float64\n",
      " 13  BP             525600 non-null  int64  \n",
      " 14  Cleaning       525600 non-null  int64  \n",
      " 15  Precipitation  525600 non-null  float64\n",
      " 16  TModA          525600 non-null  float64\n",
      " 17  TModB          525600 non-null  float64\n",
      " 18  Comments       0 non-null       float64\n",
      "dtypes: float64(16), int64(2), object(1)\n",
      "memory usage: 76.2+ MB\n",
      "None\n"
     ]
    }
   ],
   "source": [
    "#data information\n",
    "print(\"\\nData Informtion:\")\n",
    "print(df.info())"
   ]
  },
  {
   "cell_type": "markdown",
   "id": "d44613a4",
   "metadata": {},
   "source": [
    "Specifying numerical and categorical columns\n"
   ]
  },
  {
   "cell_type": "code",
   "execution_count": 62,
   "id": "a3996200",
   "metadata": {},
   "outputs": [
    {
     "name": "stdout",
     "output_type": "stream",
     "text": [
      "\n",
      "Summary Statistics:\n",
      "                 GHI            DNI            DHI           ModA  \\\n",
      "count  525600.000000  525600.000000  525600.000000  525600.000000   \n",
      "mean      201.957515     116.376337     113.720571     206.643095   \n",
      "std       298.495150     218.652659     158.946032     300.896893   \n",
      "min       -19.500000      -7.800000     -17.900000       0.000000   \n",
      "25%        -2.800000      -0.300000      -3.800000       0.000000   \n",
      "50%         0.300000      -0.100000      -0.100000       3.600000   \n",
      "75%       362.400000     107.000000     224.700000     359.500000   \n",
      "max      1499.000000     946.000000     892.000000    1507.000000   \n",
      "\n",
      "                ModB           Tamb             RH             WS  \\\n",
      "count  525600.000000  525600.000000  525600.000000  525600.000000   \n",
      "mean      198.114691      26.319394      79.448857       1.146113   \n",
      "std       288.889073       4.398605      20.520775       1.239248   \n",
      "min         0.000000      12.300000       9.900000       0.000000   \n",
      "25%         0.000000      23.100000      68.700000       0.000000   \n",
      "50%         3.400000      25.300000      85.400000       0.800000   \n",
      "75%       345.400000      29.400000      96.700000       2.000000   \n",
      "max      1473.000000      39.900000     100.000000      19.200000   \n",
      "\n",
      "              WSgust        WSstdev             WD        WDstdev  \\\n",
      "count  525600.000000  525600.000000  525600.000000  525600.000000   \n",
      "mean        1.691606       0.363823     133.044668       7.172220   \n",
      "std         1.617053       0.295000     114.284792       7.535093   \n",
      "min         0.000000       0.000000       0.000000       0.000000   \n",
      "25%         0.000000       0.000000       0.000000       0.000000   \n",
      "50%         1.600000       0.400000     161.500000       6.200000   \n",
      "75%         2.600000       0.600000     234.100000      12.000000   \n",
      "max        23.900000       4.100000     360.000000      98.400000   \n",
      "\n",
      "                  BP       Cleaning  Precipitation          TModA  \\\n",
      "count  525600.000000  525600.000000  525600.000000  525600.000000   \n",
      "mean      999.876469       0.000967       0.004806      32.504263   \n",
      "std         2.104419       0.031074       0.047556      12.434899   \n",
      "min       993.000000       0.000000       0.000000      10.700000   \n",
      "25%       999.000000       0.000000       0.000000      23.500000   \n",
      "50%      1000.000000       0.000000       0.000000      26.600000   \n",
      "75%      1001.000000       0.000000       0.000000      40.900000   \n",
      "max      1006.000000       1.000000       2.400000      72.800000   \n",
      "\n",
      "               TModB  Comments  \n",
      "count  525600.000000       0.0  \n",
      "mean       32.593091       NaN  \n",
      "std        12.009161       NaN  \n",
      "min        11.100000       NaN  \n",
      "25%        23.800000       NaN  \n",
      "50%        26.900000       NaN  \n",
      "75%        41.300000       NaN  \n",
      "max        70.400000       NaN  \n"
     ]
    }
   ],
   "source": [
    "print(\"\\nSummary Statistics:\")\n",
    "print(df.describe()) # for numerical columns"
   ]
  },
  {
   "cell_type": "code",
   "execution_count": 63,
   "id": "09b200c2",
   "metadata": {},
   "outputs": [
    {
     "name": "stdout",
     "output_type": "stream",
     "text": [
      "               Timestamp\n",
      "count             525600\n",
      "unique            525600\n",
      "top     10/29/2022 23:21\n",
      "freq                   1\n"
     ]
    }
   ],
   "source": [
    "#for categorical or boolean columns\n",
    "print(df.describe(include=['object', 'category', 'bool']))"
   ]
  },
  {
   "cell_type": "code",
   "execution_count": 64,
   "id": "51f7d69d",
   "metadata": {},
   "outputs": [
    {
     "name": "stdout",
     "output_type": "stream",
     "text": [
      "Numerical columns: ['GHI', 'DNI', 'DHI', 'ModA', 'ModB', 'Tamb', 'RH', 'WS', 'WSgust', 'WSstdev', 'WD', 'WDstdev', 'BP', 'Cleaning', 'Precipitation', 'TModA', 'TModB', 'Comments']\n",
      "Categorical columns: ['Timestamp']\n"
     ]
    }
   ],
   "source": [
    "numerical_columns = []  \n",
    "categorical_columns = [] \n",
    "\n",
    "\n",
    "if not numerical_columns:\n",
    "    numerical_columns = df.select_dtypes(include=['int64', 'float64']).columns.tolist()\n",
    "if not categorical_columns:\n",
    "    categorical_columns = df.select_dtypes(include=['object']).columns.tolist()\n",
    "\n",
    "print(\"Numerical columns:\", numerical_columns)\n",
    "print(\"Categorical columns:\", categorical_columns)"
   ]
  },
  {
   "cell_type": "markdown",
   "id": "3b59b3ed",
   "metadata": {},
   "source": [
    "Check for missing values"
   ]
  },
  {
   "cell_type": "code",
   "execution_count": 65,
   "id": "701fcd7e",
   "metadata": {},
   "outputs": [
    {
     "name": "stdout",
     "output_type": "stream",
     "text": [
      "\n",
      "Missing Values:\n",
      "Timestamp             0\n",
      "GHI                   0\n",
      "DNI                   0\n",
      "DHI                   0\n",
      "ModA                  0\n",
      "ModB                  0\n",
      "Tamb                  0\n",
      "RH                    0\n",
      "WS                    0\n",
      "WSgust                0\n",
      "WSstdev               0\n",
      "WD                    0\n",
      "WDstdev               0\n",
      "BP                    0\n",
      "Cleaning              0\n",
      "Precipitation         0\n",
      "TModA                 0\n",
      "TModB                 0\n",
      "Comments         525600\n",
      "dtype: int64\n"
     ]
    }
   ],
   "source": [
    "print(\"\\nMissing Values:\")\n",
    "print(df.isnull().sum())"
   ]
  },
  {
   "cell_type": "code",
   "execution_count": 66,
   "id": "f1c1f05c",
   "metadata": {},
   "outputs": [],
   "source": [
    "# Impute numerical columns using mean\n",
    "for col in numerical_columns:\n",
    "    if df[col].isnull().any():\n",
    "        df[col] = df[col].fillna(df[col].mean())"
   ]
  },
  {
   "cell_type": "code",
   "execution_count": 67,
   "id": "a687ec42",
   "metadata": {},
   "outputs": [
    {
     "name": "stdout",
     "output_type": "stream",
     "text": [
      "\n",
      "Missing values after imputation:\n",
      " Timestamp             0\n",
      "GHI                   0\n",
      "DNI                   0\n",
      "DHI                   0\n",
      "ModA                  0\n",
      "ModB                  0\n",
      "Tamb                  0\n",
      "RH                    0\n",
      "WS                    0\n",
      "WSgust                0\n",
      "WSstdev               0\n",
      "WD                    0\n",
      "WDstdev               0\n",
      "BP                    0\n",
      "Cleaning              0\n",
      "Precipitation         0\n",
      "TModA                 0\n",
      "TModB                 0\n",
      "Comments         525600\n",
      "dtype: int64\n"
     ]
    }
   ],
   "source": [
    "for col in categorical_columns:\n",
    "    if df[col].isnull().any():\n",
    "        df[col] = df[col].fillna(df[col].mode()[0])\n",
    "\n",
    "print(\"\\nMissing values after imputation:\\n\", df.isnull().sum())"
   ]
  },
  {
   "cell_type": "code",
   "execution_count": 68,
   "id": "094ad37d",
   "metadata": {},
   "outputs": [
    {
     "name": "stdout",
     "output_type": "stream",
     "text": [
      "\n",
      "Outlier rows (z-score):\n",
      "                Timestamp    GHI    DNI    DHI   ModA   ModB  Tamb    RH   WS  \\\n",
      "208      10/30/2021 3:29   -1.0   -0.1   -1.1    0.0    0.0  22.2  98.1  0.6   \n",
      "293      10/30/2021 4:54   -1.0   -0.2   -1.2    0.0    0.0  22.2  97.7  2.0   \n",
      "596      10/30/2021 9:57  485.2   53.0  417.5  471.8  460.7  24.5  87.8  0.4   \n",
      "605     10/30/2021 10:06  444.4   27.2  419.3  457.0  445.0  24.7  88.8  0.0   \n",
      "653     10/30/2021 10:54  814.0  257.0  594.3  878.0  856.0  25.9  85.3  0.5   \n",
      "...                  ...    ...    ...    ...    ...    ...   ...   ...  ...   \n",
      "524664   10/29/2022 8:25  185.9    1.2  184.3  151.8  170.2  25.1  95.5  0.0   \n",
      "524665   10/29/2022 8:26  193.5    1.1  191.9  190.7  184.8  25.2  95.0  0.0   \n",
      "524811  10/29/2022 10:52  698.5  310.1  433.4  732.2  711.9  30.4  76.6  0.5   \n",
      "524817  10/29/2022 10:58  807.0  395.6  465.8  851.0  828.0  30.1  78.8  0.8   \n",
      "524877  10/29/2022 11:58  467.3   87.6  383.0  493.8  480.6  30.4  77.8  1.4   \n",
      "\n",
      "        WSgust  WSstdev     WD  WDstdev    BP  Cleaning  Precipitation  TModA  \\\n",
      "208        1.4      0.6   34.1      8.1  1001         0            0.2   22.6   \n",
      "293        2.6      0.4  345.3      5.3  1002         0            0.2   22.6   \n",
      "596        1.1      0.5   77.5      0.3  1003         1            0.0   46.5   \n",
      "605        0.0      0.0    0.0      0.0  1003         1            0.0   46.3   \n",
      "653        1.1      0.5   81.4      7.9  1002         0            0.0   50.4   \n",
      "...        ...      ...    ...      ...   ...       ...            ...    ...   \n",
      "524664     0.0      0.0    0.0      0.0  1001         1            0.0   34.0   \n",
      "524665     0.0      0.0    0.0      0.0  1001         1            0.0   33.2   \n",
      "524811     1.4      0.6   47.9     40.8  1001         0            0.0   54.9   \n",
      "524817     1.9      0.6  327.1     66.2  1001         0            0.0   58.0   \n",
      "524877     3.1      1.3  300.1     20.0  1000         0            0.0   52.0   \n",
      "\n",
      "        TModB  Comments  \n",
      "208      22.9       NaN  \n",
      "293      22.9       NaN  \n",
      "596      43.4       NaN  \n",
      "605      43.5       NaN  \n",
      "653      45.6       NaN  \n",
      "...       ...       ...  \n",
      "524664   34.7       NaN  \n",
      "524665   34.1       NaN  \n",
      "524811   51.7       NaN  \n",
      "524817   54.3       NaN  \n",
      "524877   51.7       NaN  \n",
      "\n",
      "[30964 rows x 19 columns]\n"
     ]
    }
   ],
   "source": [
    "# Remove or Correct Outliers (for numerical columns)\n",
    "if numerical_columns:\n",
    "    # Identify outliers using z-score\n",
    "    z_scores = np.abs(stats.zscore(df[numerical_columns]))\n",
    "    threshold = 3\n",
    "    outliers = (z_scores > threshold).any(axis=1)\n",
    "    print(\"\\nOutlier rows (z-score):\\n\", df[outliers])"
   ]
  },
  {
   "cell_type": "code",
   "execution_count": 69,
   "id": "24d6d439",
   "metadata": {},
   "outputs": [],
   "source": [
    "# Remove outliers\n",
    "df = df[~outliers].reset_index(drop=True)"
   ]
  },
  {
   "cell_type": "code",
   "execution_count": 70,
   "id": "3d726aa7",
   "metadata": {},
   "outputs": [],
   "source": [
    "#Standardize Data\n",
    "# Convert categorical text to consistent format (lowercase)\n",
    "for col in categorical_columns:\n",
    "    if df[col].dtype == 'object':\n",
    "        df[col] = df[col].str.lower()"
   ]
  },
  {
   "cell_type": "code",
   "execution_count": 71,
   "id": "0395d3cb",
   "metadata": {},
   "outputs": [
    {
     "name": "stderr",
     "output_type": "stream",
     "text": [
      "c:\\Users\\sifra\\Kifiya AI Mastery 5,6&7 - Week 0\\.venv\\Lib\\site-packages\\sklearn\\utils\\extmath.py:1101: RuntimeWarning: invalid value encountered in divide\n",
      "  updated_mean = (last_sum + new_sum) / updated_sample_count\n",
      "c:\\Users\\sifra\\Kifiya AI Mastery 5,6&7 - Week 0\\.venv\\Lib\\site-packages\\sklearn\\utils\\extmath.py:1106: RuntimeWarning: invalid value encountered in divide\n",
      "  T = new_sum / new_sample_count\n",
      "c:\\Users\\sifra\\Kifiya AI Mastery 5,6&7 - Week 0\\.venv\\Lib\\site-packages\\sklearn\\utils\\extmath.py:1126: RuntimeWarning: invalid value encountered in divide\n",
      "  new_unnormalized_variance -= correction**2 / new_sample_count\n"
     ]
    }
   ],
   "source": [
    "#Normalize numerical columns using StandardScaler\n",
    "if numerical_columns:\n",
    "    scaler = StandardScaler()\n",
    "    df[numerical_columns] = scaler.fit_transform(df[numerical_columns])"
   ]
  },
  {
   "cell_type": "markdown",
   "id": "2766a864",
   "metadata": {},
   "source": [
    "Check for Duplicates"
   ]
  },
  {
   "cell_type": "code",
   "execution_count": 80,
   "id": "328f2950",
   "metadata": {},
   "outputs": [
    {
     "name": "stdout",
     "output_type": "stream",
     "text": [
      "\n",
      "Number of Duplicate Rows: 0\n"
     ]
    }
   ],
   "source": [
    "data = pd.read_csv(\"C:/Users/sifra/Downloads/data/data/sierraleone_bumbuna.csv\")  # Fix path if needed\n",
    "print(\"\\nNumber of Duplicate Rows:\", data.duplicated().sum())\n"
   ]
  },
  {
   "cell_type": "code",
   "execution_count": 74,
   "id": "4eb40c9f",
   "metadata": {},
   "outputs": [
    {
     "name": "stdout",
     "output_type": "stream",
     "text": [
      "\n",
      "Duplicate rows before removal: 0\n",
      "Duplicate rows after removal: 0\n"
     ]
    }
   ],
   "source": [
    "#Remove Duplicates\n",
    "print(\"\\nDuplicate rows before removal:\", df.duplicated().sum())\n",
    "df = df.drop_duplicates().reset_index(drop=True)\n",
    "print(\"Duplicate rows after removal:\", df.duplicated().sum())"
   ]
  },
  {
   "cell_type": "code",
   "execution_count": 81,
   "id": "4bb65da5",
   "metadata": {},
   "outputs": [],
   "source": [
    "# Encode Categorical Variables\n",
    "# Since 'Timestamp' is the only categorical column, do not one-hot encode it.\n",
    "# Instead, extract useful time features.\n",
    "\n",
    "if 'Timestamp' in df.columns:\n",
    "    # Convert to datetime\n",
    "    df['Timestamp'] = pd.to_datetime(df['Timestamp'], errors='coerce')\n",
    "    # Extract features\n",
    "    df['year'] = df['Timestamp'].dt.year\n",
    "    df['month'] = df['Timestamp'].dt.month\n",
    "    df['day'] = df['Timestamp'].dt.day\n",
    "    df['hour'] = df['Timestamp'].dt.hour\n",
    "    df['minute'] = df['Timestamp'].dt.minute\n",
    "    # Optionally drop the original column if not needed\n",
    "    # df = df.drop('Timestamp', axis=1)"
   ]
  },
  {
   "cell_type": "code",
   "execution_count": 82,
   "id": "b8b96094",
   "metadata": {},
   "outputs": [
    {
     "name": "stdout",
     "output_type": "stream",
     "text": [
      "\n",
      "Cleaned Dataset:\n",
      "             Timestamp       GHI       DNI      DHI      ModA      ModB  \\\n",
      "0 2021-10-30 00:01:00 -0.651033 -0.501979 -0.69333 -0.659574 -0.659248   \n",
      "1 2021-10-30 00:02:00 -0.651033 -0.501979 -0.69333 -0.659574 -0.659248   \n",
      "2 2021-10-30 00:03:00 -0.651033 -0.501979 -0.69333 -0.659574 -0.659248   \n",
      "3 2021-10-30 00:04:00 -0.651033 -0.501467 -0.69333 -0.659574 -0.659248   \n",
      "4 2021-10-30 00:05:00 -0.651033 -0.501979 -0.69333 -0.659574 -0.659248   \n",
      "\n",
      "      Tamb        RH        WS    WSgust  ...  Cleaning  Precipitation  \\\n",
      "0 -0.97977  0.952171 -0.928946 -1.059569  ...       0.0      -0.125742   \n",
      "1 -0.97977  0.957302 -0.928946 -1.059569  ...       0.0      -0.125742   \n",
      "2 -0.97977  0.957302 -0.928946 -1.059569  ...       0.0      -0.125742   \n",
      "3 -0.97977  0.962434 -0.928946 -1.059569  ...       0.0       7.952785   \n",
      "4 -0.97977  0.962434 -0.928946 -1.059569  ...       0.0      -0.125742   \n",
      "\n",
      "      TModA     TModB  Comments  year  month  day  hour  minute  \n",
      "0 -0.793358 -0.802832       NaN  2021     10   30     0       1  \n",
      "1 -0.793358 -0.802832       NaN  2021     10   30     0       2  \n",
      "2 -0.793358 -0.802832       NaN  2021     10   30     0       3  \n",
      "3 -0.793358 -0.802832       NaN  2021     10   30     0       4  \n",
      "4 -0.793358 -0.802832       NaN  2021     10   30     0       5  \n",
      "\n",
      "[5 rows x 24 columns]\n"
     ]
    }
   ],
   "source": [
    "#Display the cleaned dataset\n",
    "print(\"\\nCleaned Dataset:\\n\", df.head())"
   ]
  },
  {
   "cell_type": "code",
   "execution_count": 83,
   "id": "33a7e7a6",
   "metadata": {},
   "outputs": [
    {
     "name": "stdout",
     "output_type": "stream",
     "text": [
      "<class 'pandas.core.frame.DataFrame'>\n",
      "RangeIndex: 494636 entries, 0 to 494635\n",
      "Data columns (total 24 columns):\n",
      " #   Column         Non-Null Count   Dtype         \n",
      "---  ------         --------------   -----         \n",
      " 0   Timestamp      494636 non-null  datetime64[ns]\n",
      " 1   GHI            494636 non-null  float64       \n",
      " 2   DNI            494636 non-null  float64       \n",
      " 3   DHI            494636 non-null  float64       \n",
      " 4   ModA           494636 non-null  float64       \n",
      " 5   ModB           494636 non-null  float64       \n",
      " 6   Tamb           494636 non-null  float64       \n",
      " 7   RH             494636 non-null  float64       \n",
      " 8   WS             494636 non-null  float64       \n",
      " 9   WSgust         494636 non-null  float64       \n",
      " 10  WSstdev        494636 non-null  float64       \n",
      " 11  WD             494636 non-null  float64       \n",
      " 12  WDstdev        494636 non-null  float64       \n",
      " 13  BP             494636 non-null  float64       \n",
      " 14  Cleaning       494636 non-null  float64       \n",
      " 15  Precipitation  494636 non-null  float64       \n",
      " 16  TModA          494636 non-null  float64       \n",
      " 17  TModB          494636 non-null  float64       \n",
      " 18  Comments       0 non-null       float64       \n",
      " 19  year           494636 non-null  int32         \n",
      " 20  month          494636 non-null  int32         \n",
      " 21  day            494636 non-null  int32         \n",
      " 22  hour           494636 non-null  int32         \n",
      " 23  minute         494636 non-null  int32         \n",
      "dtypes: datetime64[ns](1), float64(18), int32(5)\n",
      "memory usage: 81.1 MB\n",
      "\n",
      "Cleaned Dataset:\n",
      " None\n"
     ]
    }
   ],
   "source": [
    "print(\"\\nCleaned Dataset:\\n\", df.info())"
   ]
  },
  {
   "cell_type": "code",
   "execution_count": 86,
   "id": "39d207ee",
   "metadata": {},
   "outputs": [
    {
     "name": "stdout",
     "output_type": "stream",
     "text": [
      "\n",
      "Cleaned dataset saved to C:/Users/sifra/Downloads/data/data/sierraleon_clean.csv\n"
     ]
    }
   ],
   "source": [
    "#Save cleaned dataset to a new CSV file\n",
    "output_file = 'C:/Users/sifra/Downloads/data/data/sierraleon_clean.csv'\n",
    "df.to_csv(output_file, index=False)\n",
    "print(f\"\\nCleaned dataset saved to {output_file}\")"
   ]
  },
  {
   "cell_type": "markdown",
   "id": "b6723aae",
   "metadata": {},
   "source": [
    "Perform exploratory data analysis (EDA)"
   ]
  },
  {
   "cell_type": "code",
   "execution_count": 87,
   "id": "1bc57109",
   "metadata": {},
   "outputs": [
    {
     "name": "stdout",
     "output_type": "stream",
     "text": [
      "Dataset loaded successfully. Shape: (494636, 24)\n"
     ]
    }
   ],
   "source": [
    "data = 'C:/Users/sifra/Downloads/data/data/sierraleon_clean.csv'  \n",
    "\n",
    "try:\n",
    "    # Load the CSV file\n",
    "    df = pd.read_csv(data)\n",
    "    print(\"Dataset loaded successfully. Shape:\", df.shape)\n",
    "except FileNotFoundError:\n",
    "    print(f\"Error: The file {data} was not found. Please provide the correct file path.\")\n",
    "    exit()\n",
    "except Exception as e:\n",
    "    print(f\"Error loading CSV file: {e}\")\n",
    "    exit()"
   ]
  },
  {
   "cell_type": "markdown",
   "id": "5185eaea",
   "metadata": {},
   "source": [
    "I. Univariate Analysis"
   ]
  },
  {
   "cell_type": "code",
   "execution_count": 88,
   "id": "0d37b1df",
   "metadata": {},
   "outputs": [
    {
     "data": {
      "image/png": "[encoded data removed]",
      "text/plain": [
       "<Figure size 1000x600 with 1 Axes>"
      ]
     },
     "metadata": {},
     "output_type": "display_data"
    }
   ],
   "source": [
    "plt.figure(figsize=(10, 6))\n",
    "sns.barplot(x=\"GHI\", data=df)\n",
    "# Customize the plot\n",
    "plt.title(\"GHI Distribution\")\n",
    "# plt.xticks(rotation=45, ha='right')  # Rotate x-axis labels if needed\n",
    "plt.tight_layout()  # Adjust layout to prevent label cutoff\n",
    "# Display the plot\n",
    "plt.show()"
   ]
  },
  {
   "cell_type": "code",
   "execution_count": 89,
   "id": "28adf511",
   "metadata": {},
   "outputs": [
    {
     "data": {
      "image/png": "[encoded data removed]",
      "text/plain": [
       "<Figure size 1000x600 with 1 Axes>"
      ]
     },
     "metadata": {},
     "output_type": "display_data"
    }
   ],
   "source": [
    "plt.figure(figsize=(10, 6))\n",
    "sns.barplot(x=\"DHI\", data=df)\n",
    "# Customize the plot\n",
    "plt.title(\"DHI Distribution\")\n",
    "plt.xticks(rotation=45, ha='right')  # Rotate x-axis labels if needed\n",
    "plt.tight_layout()  # Adjust layout to prevent label cutoff\n",
    "# Display the plot\n",
    "plt.show()"
   ]
  },
  {
   "cell_type": "code",
   "execution_count": 90,
   "id": "98443f80",
   "metadata": {},
   "outputs": [
    {
     "data": {
      "image/png": "[encoded data removed]",
      "text/plain": [
       "<Figure size 1000x600 with 1 Axes>"
      ]
     },
     "metadata": {},
     "output_type": "display_data"
    }
   ],
   "source": [
    "\n",
    "plt.figure(figsize=(10, 6))\n",
    "sns.barplot(x=\"Tamb\", data=df)\n",
    "# Customize the plot\n",
    "plt.title(\"Tamb Distribution\")\n",
    "plt.xticks(rotation=45, ha='right')  # Rotate x-axis labels if needed\n",
    "plt.tight_layout()  # Adjust layout to prevent label cutoff\n",
    "# Display the plot\n",
    "plt.show()"
   ]
  },
  {
   "cell_type": "code",
   "execution_count": null,
   "id": "609d41b1",
   "metadata": {
    "vscode": {
     "languageId": "markdown"
    }
   },
   "outputs": [],
   "source": [
    "### General Overview\n",
    "\n",
    "This Jupyter Notebook provides a comprehensive workflow for exploratory data analysis (EDA) and preprocessing of a solar energy environmental dataset from MoonLight Energy Solutions. The steps include:\n",
    "\n",
    "1. **Importing Libraries:** Essential Python libraries for data manipulation, visualization, and preprocessing are imported, such as pandas, numpy, matplotlib, seaborn, and scikit-learn modules.\n",
    "\n",
    "2. **Data Loading:** The dataset is loaded from a CSV file. Initial checks are performed to ensure the file is read correctly.\n",
    "\n",
    "3. **Data Inspection:** The structure, shape, and sample records of the dataset are displayed to understand its contents and dimensions.\n",
    "\n",
    "4. **Data Description:** Summary statistics for both numerical and categorical columns are generated to provide insights into data distribution and types.\n",
    "\n",
    "5. **Column Identification:** Numerical and categorical columns are programmatically identified for targeted processing.\n",
    "\n",
    "6. **Missing Value Handling:** The code checks for missing values and imputes them using mean (for numerical columns) and mode (for categorical columns).\n",
    "\n",
    "7. **Outlier Detection and Removal:** Outliers in numerical columns are identified using the z-score method and removed to ensure data quality.\n",
    "\n",
    "8. **Data Standardization:** Categorical text columns are standardized (e.g., converted to lowercase), and numerical columns are normalized using `StandardScaler`.\n",
    "\n",
    "9. **Duplicate Handling:** Duplicate rows are detected and removed to avoid redundancy.\n",
    "\n",
    "10. **Feature Engineering:** Time-based features (year, month, day, hour, minute) are extracted from the 'Timestamp' column for further analysis.\n",
    "\n",
    "11. **Data Export:** The cleaned and processed dataset is saved to a new CSV file for future use.\n",
    "\n",
    "12. **Exploratory Data Analysis (EDA):** Univariate analysis is performed using bar plots to visualize the distribution of key variables such as GHI, DHI, and Tamb.\n",
    "\n",
    "This workflow ensures the dataset is clean, well-structured, and ready for deeper analysis or modeling, supporting strategic decision-making for solar investments."
   ]
  }
 ],
 "metadata": {
  "kernelspec": {
   "display_name": ".venv",
   "language": "python",
   "name": "python3"
  },
  "language_info": {
   "codemirror_mode": {
    "name": "ipython",
    "version": 3
   },
   "file_extension": ".py",
   "mimetype": "text/x-python",
   "name": "python",
   "nbconvert_exporter": "python",
   "pygments_lexer": "ipython3",
   "version": "3.13.3"
  }
 },
 "nbformat": 4,
 "nbformat_minor": 5
}
